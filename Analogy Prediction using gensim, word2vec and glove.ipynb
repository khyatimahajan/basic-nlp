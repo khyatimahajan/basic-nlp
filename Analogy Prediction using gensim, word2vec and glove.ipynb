{
 "cells": [
  {
   "cell_type": "code",
   "execution_count": 35,
   "metadata": {},
   "outputs": [],
   "source": [
    "import nltk\n",
    "import pandas as pd\n",
    "import gensim\n",
    "from pprint import pprint"
   ]
  },
  {
   "cell_type": "markdown",
   "metadata": {},
   "source": [
    "### Load pre-trained vectors"
   ]
  },
  {
   "cell_type": "code",
   "execution_count": 36,
   "metadata": {},
   "outputs": [],
   "source": [
    "w2v_model = gensim.models.KeyedVectors.load_word2vec_format('./Data/GoogleNews-vectors-negative300.bin', binary=True)"
   ]
  },
  {
   "cell_type": "code",
   "execution_count": 37,
   "metadata": {},
   "outputs": [
    {
     "data": {
      "text/plain": [
       "(400000, 300)"
      ]
     },
     "execution_count": 37,
     "metadata": {},
     "output_type": "execute_result"
    }
   ],
   "source": [
    "gensim.scripts.glove2word2vec.glove2word2vec(glove_input_file=\"./Data/glove/glove.6B.300d.txt\", word2vec_output_file=\"gensim_glove_vectors.txt\")"
   ]
  },
  {
   "cell_type": "code",
   "execution_count": 38,
   "metadata": {},
   "outputs": [],
   "source": [
    "glove_model = gensim.models.KeyedVectors.load_word2vec_format(\"gensim_glove_vectors.txt\", binary=False)"
   ]
  },
  {
   "cell_type": "markdown",
   "metadata": {},
   "source": [
    "# Part 1"
   ]
  },
  {
   "cell_type": "markdown",
   "metadata": {},
   "source": [
    "### Overall accuracy for word2vec vs glove pre-trained vectors"
   ]
  },
  {
   "cell_type": "code",
   "execution_count": 39,
   "metadata": {},
   "outputs": [
    {
     "name": "stdout",
     "output_type": "stream",
     "text": [
      "Accuracy for word2vec:  0.8359683794466403\n"
     ]
    }
   ],
   "source": [
    "w2v_accuracy = w2v_model.accuracy('word-test-v1.txt')\n",
    "correct = len(w2v_accuracy[0]['correct'])\n",
    "incorrect = len(w2v_accuracy[0]['incorrect'])\n",
    "print('Accuracy for word2vec: ', (correct/(correct + incorrect)))"
   ]
  },
  {
   "cell_type": "code",
   "execution_count": 40,
   "metadata": {},
   "outputs": [
    {
     "name": "stdout",
     "output_type": "stream",
     "text": [
      "Accuracy for glove:  0.9525691699604744\n"
     ]
    }
   ],
   "source": [
    "glove_accuracy = glove_model.accuracy('word-test-v1.txt')\n",
    "correct = len(glove_accuracy[0]['correct'])\n",
    "incorrect = len(glove_accuracy[0]['incorrect'])\n",
    "print('Accuracy for glove: ', (correct/(correct + incorrect)))"
   ]
  },
  {
   "cell_type": "markdown",
   "metadata": {},
   "source": [
    "### Accuracy for capital-world"
   ]
  },
  {
   "cell_type": "code",
   "execution_count": 42,
   "metadata": {},
   "outputs": [
    {
     "name": "stdout",
     "output_type": "stream",
     "text": [
      "Accuracy for word2vec:  0.8271872740419378\n"
     ]
    }
   ],
   "source": [
    "w2v_accuracy = w2v_model.accuracy('capital-world.txt')\n",
    "correct = len(w2v_accuracy[0]['correct'])\n",
    "incorrect = len(w2v_accuracy[0]['incorrect'])\n",
    "print('Accuracy for word2vec: ', (correct/(correct + incorrect)))"
   ]
  },
  {
   "cell_type": "code",
   "execution_count": 43,
   "metadata": {},
   "outputs": [
    {
     "name": "stdout",
     "output_type": "stream",
     "text": [
      "Accuracy for glove:  0.9568901989683124\n"
     ]
    }
   ],
   "source": [
    "glove_accuracy = glove_model.accuracy('capital-world.txt')\n",
    "correct = len(glove_accuracy[0]['correct'])\n",
    "incorrect = len(glove_accuracy[0]['incorrect'])\n",
    "print('Accuracy for glove: ', (correct/(correct + incorrect)))"
   ]
  },
  {
   "cell_type": "markdown",
   "metadata": {},
   "source": [
    "### Accuracy for currency"
   ]
  },
  {
   "cell_type": "code",
   "execution_count": 44,
   "metadata": {},
   "outputs": [
    {
     "name": "stdout",
     "output_type": "stream",
     "text": [
      "Accuracy for word2vec:  0.3984375\n"
     ]
    }
   ],
   "source": [
    "w2v_accuracy = w2v_model.accuracy('currency.txt')\n",
    "correct = len(w2v_accuracy[0]['correct'])\n",
    "incorrect = len(w2v_accuracy[0]['incorrect'])\n",
    "print('Accuracy for word2vec: ', (correct/(correct + incorrect)))"
   ]
  },
  {
   "cell_type": "code",
   "execution_count": 45,
   "metadata": {},
   "outputs": [
    {
     "name": "stdout",
     "output_type": "stream",
     "text": [
      "Accuracy for glove:  0.18220338983050846\n"
     ]
    }
   ],
   "source": [
    "glove_accuracy = glove_model.accuracy('currency.txt')\n",
    "correct = len(glove_accuracy[0]['correct'])\n",
    "incorrect = len(glove_accuracy[0]['incorrect'])\n",
    "print('Accuracy for glove: ', (correct/(correct + incorrect)))"
   ]
  },
  {
   "cell_type": "markdown",
   "metadata": {},
   "source": [
    "### Accuracy for city-in-state"
   ]
  },
  {
   "cell_type": "code",
   "execution_count": 46,
   "metadata": {},
   "outputs": [
    {
     "name": "stdout",
     "output_type": "stream",
     "text": [
      "Accuracy for word2vec:  0.7463519313304721\n"
     ]
    }
   ],
   "source": [
    "w2v_accuracy = w2v_model.accuracy('city-in-state.txt')\n",
    "correct = len(w2v_accuracy[0]['correct'])\n",
    "incorrect = len(w2v_accuracy[0]['incorrect'])\n",
    "print('Accuracy for word2vec: ', (correct/(correct + incorrect)))"
   ]
  },
  {
   "cell_type": "code",
   "execution_count": 47,
   "metadata": {},
   "outputs": [
    {
     "name": "stdout",
     "output_type": "stream",
     "text": [
      "Accuracy for glove:  0.5964593735814798\n"
     ]
    }
   ],
   "source": [
    "glove_accuracy = glove_model.accuracy('city-in-state.txt')\n",
    "correct = len(glove_accuracy[0]['correct'])\n",
    "incorrect = len(glove_accuracy[0]['incorrect'])\n",
    "print('Accuracy for glove: ', (correct/(correct + incorrect)))"
   ]
  },
  {
   "cell_type": "markdown",
   "metadata": {},
   "source": [
    "### Accuracy for family"
   ]
  },
  {
   "cell_type": "code",
   "execution_count": 48,
   "metadata": {},
   "outputs": [
    {
     "name": "stdout",
     "output_type": "stream",
     "text": [
      "Accuracy for word2vec:  0.9005847953216374\n"
     ]
    }
   ],
   "source": [
    "w2v_accuracy = w2v_model.accuracy('family.txt')\n",
    "correct = len(w2v_accuracy[0]['correct'])\n",
    "incorrect = len(w2v_accuracy[0]['incorrect'])\n",
    "print('Accuracy for word2vec: ', (correct/(correct + incorrect)))"
   ]
  },
  {
   "cell_type": "code",
   "execution_count": 49,
   "metadata": {},
   "outputs": [
    {
     "name": "stdout",
     "output_type": "stream",
     "text": [
      "Accuracy for glove:  0.9269005847953217\n"
     ]
    }
   ],
   "source": [
    "glove_accuracy = glove_model.accuracy('family.txt')\n",
    "correct = len(glove_accuracy[0]['correct'])\n",
    "incorrect = len(glove_accuracy[0]['incorrect'])\n",
    "print('Accuracy for glove: ', (correct/(correct + incorrect)))"
   ]
  },
  {
   "cell_type": "markdown",
   "metadata": {},
   "source": [
    "### Accuracy for gram1-adjective-to-adverb"
   ]
  },
  {
   "cell_type": "code",
   "execution_count": 50,
   "metadata": {},
   "outputs": [
    {
     "name": "stdout",
     "output_type": "stream",
     "text": [
      "Accuracy for word2vec:  0.3226600985221675\n"
     ]
    }
   ],
   "source": [
    "w2v_accuracy = w2v_model.accuracy('gram1-adjective-to-adverb.txt')\n",
    "correct = len(w2v_accuracy[0]['correct'])\n",
    "incorrect = len(w2v_accuracy[0]['incorrect'])\n",
    "print('Accuracy for word2vec: ', (correct/(correct + incorrect)))"
   ]
  },
  {
   "cell_type": "code",
   "execution_count": 51,
   "metadata": {},
   "outputs": [
    {
     "name": "stdout",
     "output_type": "stream",
     "text": [
      "Accuracy for glove:  0.2160919540229885\n"
     ]
    }
   ],
   "source": [
    "glove_accuracy = glove_model.accuracy('gram1-adjective-to-adverb.txt')\n",
    "correct = len(glove_accuracy[0]['correct'])\n",
    "incorrect = len(glove_accuracy[0]['incorrect'])\n",
    "print('Accuracy for glove: ', (correct/(correct + incorrect)))"
   ]
  },
  {
   "cell_type": "markdown",
   "metadata": {},
   "source": [
    "### Accuracy for gram2-opposite"
   ]
  },
  {
   "cell_type": "code",
   "execution_count": 52,
   "metadata": {},
   "outputs": [
    {
     "name": "stdout",
     "output_type": "stream",
     "text": [
      "Accuracy for word2vec:  0.5052631578947369\n"
     ]
    }
   ],
   "source": [
    "w2v_accuracy = w2v_model.accuracy('gram2-opposite.txt')\n",
    "correct = len(w2v_accuracy[0]['correct'])\n",
    "incorrect = len(w2v_accuracy[0]['incorrect'])\n",
    "print('Accuracy for word2vec: ', (correct/(correct + incorrect)))"
   ]
  },
  {
   "cell_type": "code",
   "execution_count": 53,
   "metadata": {},
   "outputs": [
    {
     "name": "stdout",
     "output_type": "stream",
     "text": [
      "Accuracy for glove:  0.32894736842105265\n"
     ]
    }
   ],
   "source": [
    "glove_accuracy = glove_model.accuracy('gram2-opposite.txt')\n",
    "correct = len(glove_accuracy[0]['correct'])\n",
    "incorrect = len(glove_accuracy[0]['incorrect'])\n",
    "print('Accuracy for glove: ', (correct/(correct + incorrect)))"
   ]
  },
  {
   "cell_type": "markdown",
   "metadata": {},
   "source": [
    "### Accuracy for gram3-comparative"
   ]
  },
  {
   "cell_type": "code",
   "execution_count": 54,
   "metadata": {},
   "outputs": [
    {
     "name": "stdout",
     "output_type": "stream",
     "text": [
      "Accuracy for word2vec:  0.918918918918919\n"
     ]
    }
   ],
   "source": [
    "w2v_accuracy = w2v_model.accuracy('gram3-comparative.txt')\n",
    "correct = len(w2v_accuracy[0]['correct'])\n",
    "incorrect = len(w2v_accuracy[0]['incorrect'])\n",
    "print('Accuracy for word2vec: ', (correct/(correct + incorrect)))"
   ]
  },
  {
   "cell_type": "code",
   "execution_count": 55,
   "metadata": {},
   "outputs": [
    {
     "name": "stdout",
     "output_type": "stream",
     "text": [
      "Accuracy for glove:  0.8828828828828829\n"
     ]
    }
   ],
   "source": [
    "glove_accuracy = glove_model.accuracy('gram3-comparative.txt')\n",
    "correct = len(glove_accuracy[0]['correct'])\n",
    "incorrect = len(glove_accuracy[0]['incorrect'])\n",
    "print('Accuracy for glove: ', (correct/(correct + incorrect)))"
   ]
  },
  {
   "cell_type": "markdown",
   "metadata": {},
   "source": [
    "### Accuracy for gram6-nationality-adjective"
   ]
  },
  {
   "cell_type": "code",
   "execution_count": 56,
   "metadata": {},
   "outputs": [
    {
     "name": "stdout",
     "output_type": "stream",
     "text": [
      "Accuracy for word2vec:  0.9707078925956062\n"
     ]
    }
   ],
   "source": [
    "w2v_accuracy = w2v_model.accuracy('gram6-nationality-adjective.txt')\n",
    "correct = len(w2v_accuracy[0]['correct'])\n",
    "incorrect = len(w2v_accuracy[0]['incorrect'])\n",
    "print('Accuracy for word2vec: ', (correct/(correct + incorrect)))"
   ]
  },
  {
   "cell_type": "code",
   "execution_count": 57,
   "metadata": {},
   "outputs": [
    {
     "name": "stdout",
     "output_type": "stream",
     "text": [
      "Accuracy for glove:  0.9750865051903114\n"
     ]
    }
   ],
   "source": [
    "glove_accuracy = glove_model.accuracy('gram6-nationality-adjective.txt')\n",
    "correct = len(glove_accuracy[0]['correct'])\n",
    "incorrect = len(glove_accuracy[0]['incorrect'])\n",
    "print('Accuracy for glove: ', (correct/(correct + incorrect)))"
   ]
  },
  {
   "cell_type": "markdown",
   "metadata": {},
   "source": [
    "# Part 2"
   ]
  },
  {
   "cell_type": "code",
   "execution_count": 32,
   "metadata": {},
   "outputs": [],
   "source": [
    "words = [\"enter\", \"increase\", \"positive\", \"happy\"]"
   ]
  },
  {
   "cell_type": "code",
   "execution_count": 33,
   "metadata": {},
   "outputs": [
    {
     "name": "stdout",
     "output_type": "stream",
     "text": [
      "Word:  enter\n",
      "[('entering', 0.7399863004684448),\n",
      " ('entered', 0.6956064701080322),\n",
      " ('reenter', 0.6487391591072083),\n",
      " ('enters', 0.5622495412826538),\n",
      " ('entry', 0.551796019077301),\n",
      " ('Entering', 0.48456794023513794),\n",
      " ('participate', 0.48203885555267334),\n",
      " ('leave', 0.4764121174812317),\n",
      " ('join', 0.4726879596710205),\n",
      " ('register', 0.4570498466491699)]\n",
      "Word:  increase\n",
      "[('decrease', 0.8370318412780762),\n",
      " ('increases', 0.7709376811981201),\n",
      " ('increased', 0.7578041553497314),\n",
      " ('reduction', 0.6908220648765564),\n",
      " ('increasing', 0.6871615648269653),\n",
      " ('decreases', 0.6816173791885376),\n",
      " ('rise', 0.6352647542953491),\n",
      " ('decreasing', 0.6218624114990234),\n",
      " ('decline', 0.6128641366958618),\n",
      " ('increasein', 0.5982418060302734)]\n",
      "Word:  positive\n",
      "[('postive', 0.776421308517456),\n",
      " ('negative', 0.7586989402770996),\n",
      " ('Positive', 0.6717779040336609),\n",
      " ('positve', 0.6525478363037109),\n",
      " ('upbeat', 0.5572468042373657),\n",
      " ('encouraging', 0.535555362701416),\n",
      " ('apositive', 0.5288558006286621),\n",
      " ('favorable', 0.5286535024642944),\n",
      " ('postitive', 0.5212507247924805),\n",
      " ('bullish', 0.5111628174781799)]\n",
      "Word:  happy\n",
      "[('glad', 0.7408890724182129),\n",
      " ('pleased', 0.6632170677185059),\n",
      " ('ecstatic', 0.6626912355422974),\n",
      " ('overjoyed', 0.6599286794662476),\n",
      " ('thrilled', 0.6514049768447876),\n",
      " ('satisfied', 0.6437948942184448),\n",
      " ('proud', 0.636042058467865),\n",
      " ('delighted', 0.6272379159927368),\n",
      " ('disappointed', 0.6269949674606323),\n",
      " ('excited', 0.6247665882110596)]\n"
     ]
    }
   ],
   "source": [
    "for word in words:\n",
    "    print('Word: ', word)\n",
    "    pprint(w2v_model.similar_by_word(word, topn=10))"
   ]
  },
  {
   "cell_type": "code",
   "execution_count": 34,
   "metadata": {},
   "outputs": [
    {
     "name": "stdout",
     "output_type": "stream",
     "text": [
      "Word:  enter\n",
      "[('entering', 0.741235077381134),\n",
      " ('entered', 0.6952908039093018),\n",
      " ('entry', 0.6452537775039673),\n",
      " ('allow', 0.5850667953491211),\n",
      " ('permission', 0.5394474267959595),\n",
      " ('able', 0.539185643196106),\n",
      " ('into', 0.533473014831543),\n",
      " ('join', 0.5296685099601746),\n",
      " ('allowed', 0.5285584330558777),\n",
      " ('participate', 0.5206832885742188)]\n",
      "Word:  increase\n",
      "[('increased', 0.8602882027626038),\n",
      " ('increases', 0.8352779746055603),\n",
      " ('decrease', 0.8139814734458923),\n",
      " ('increasing', 0.7714848518371582),\n",
      " ('reduce', 0.70950847864151),\n",
      " ('boost', 0.680904746055603),\n",
      " ('rise', 0.6780449151992798),\n",
      " ('reduction', 0.6669253706932068),\n",
      " ('reduced', 0.6547669172286987),\n",
      " ('significantly', 0.6326099634170532)]\n",
      "Word:  positive\n",
      "[('negative', 0.7880401611328125),\n",
      " ('tested', 0.49734869599342346),\n",
      " ('encouraging', 0.49607089161872864),\n",
      " ('results', 0.48599082231521606),\n",
      " ('strong', 0.4809132218360901),\n",
      " ('noting', 0.4787823259830475),\n",
      " ('feedback', 0.478133887052536),\n",
      " ('upbeat', 0.4768938422203064),\n",
      " ('optimistic', 0.4720751643180847),\n",
      " ('favorable', 0.46812698245048523)]\n",
      "Word:  happy\n",
      "[(\"'m\", 0.7080122232437134),\n",
      " ('glad', 0.6905032396316528),\n",
      " ('pleased', 0.6712467670440674),\n",
      " ('really', 0.6575899124145508),\n",
      " ('always', 0.6494665741920471),\n",
      " ('everyone', 0.6449035406112671),\n",
      " ('everybody', 0.6344364285469055),\n",
      " ('feel', 0.6336808204650879),\n",
      " ('i', 0.6298314332962036),\n",
      " ('sure', 0.6290906071662903)]\n"
     ]
    }
   ],
   "source": [
    "for word in words:\n",
    "    print('Word: ', word)\n",
    "    pprint(glove_model.similar_by_word(word, topn=10))"
   ]
  },
  {
   "cell_type": "markdown",
   "metadata": {},
   "source": [
    "# Part 3"
   ]
  },
  {
   "cell_type": "code",
   "execution_count": 58,
   "metadata": {},
   "outputs": [
    {
     "name": "stdout",
     "output_type": "stream",
     "text": [
      "Accuracy for word2vec:  0.0\n"
     ]
    }
   ],
   "source": [
    "w2v_accuracy = w2v_model.accuracy('weather.txt')\n",
    "correct = len(w2v_accuracy[0]['correct'])\n",
    "incorrect = len(w2v_accuracy[0]['incorrect'])\n",
    "print('Accuracy for word2vec: ', (correct/(correct + incorrect)))"
   ]
  },
  {
   "cell_type": "code",
   "execution_count": 59,
   "metadata": {},
   "outputs": [
    {
     "name": "stdout",
     "output_type": "stream",
     "text": [
      "Accuracy for glove:  0.0\n"
     ]
    }
   ],
   "source": [
    "glove_accuracy = glove_model.accuracy('weather.txt')\n",
    "correct = len(glove_accuracy[0]['correct'])\n",
    "incorrect = len(glove_accuracy[0]['incorrect'])\n",
    "print('Accuracy for glove: ', (correct/(correct + incorrect)))"
   ]
  },
  {
   "cell_type": "code",
   "execution_count": 60,
   "metadata": {},
   "outputs": [
    {
     "name": "stdout",
     "output_type": "stream",
     "text": [
      "Accuracy for word2vec:  0.0\n"
     ]
    }
   ],
   "source": [
    "w2v_accuracy = w2v_model.accuracy('materials.txt')\n",
    "correct = len(w2v_accuracy[0]['correct'])\n",
    "incorrect = len(w2v_accuracy[0]['incorrect'])\n",
    "print('Accuracy for word2vec: ', (correct/(correct + incorrect)))"
   ]
  },
  {
   "cell_type": "code",
   "execution_count": 61,
   "metadata": {},
   "outputs": [
    {
     "name": "stdout",
     "output_type": "stream",
     "text": [
      "Accuracy for glove:  0.0\n"
     ]
    }
   ],
   "source": [
    "glove_accuracy = glove_model.accuracy('materials.txt')\n",
    "correct = len(glove_accuracy[0]['correct'])\n",
    "incorrect = len(glove_accuracy[0]['incorrect'])\n",
    "print('Accuracy for glove: ', (correct/(correct + incorrect)))"
   ]
  }
 ],
 "metadata": {
  "kernelspec": {
   "display_name": "Python 3",
   "language": "python",
   "name": "python3"
  },
  "language_info": {
   "codemirror_mode": {
    "name": "ipython",
    "version": 3
   },
   "file_extension": ".py",
   "mimetype": "text/x-python",
   "name": "python",
   "nbconvert_exporter": "python",
   "pygments_lexer": "ipython3",
   "version": "3.7.6"
  }
 },
 "nbformat": 4,
 "nbformat_minor": 4
}
