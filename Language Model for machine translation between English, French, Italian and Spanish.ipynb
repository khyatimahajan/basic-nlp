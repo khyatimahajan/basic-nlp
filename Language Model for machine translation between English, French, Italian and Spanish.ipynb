{
 "cells": [
  {
   "cell_type": "code",
   "execution_count": 1,
   "metadata": {},
   "outputs": [],
   "source": [
    "import nltk\n",
    "from nltk.corpus import udhr\n",
    "from nltk.util import ngrams"
   ]
  },
  {
   "cell_type": "code",
   "execution_count": 2,
   "metadata": {},
   "outputs": [],
   "source": [
    "english = udhr.raw('English-Latin1')\n",
    "french = udhr.raw('French_Francais-Latin1')\n",
    "italian = udhr.raw('Italian_Italiano-Latin1')\n",
    "spanish = udhr.raw('Spanish_Espanol-Latin1')"
   ]
  },
  {
   "cell_type": "code",
   "execution_count": 3,
   "metadata": {},
   "outputs": [],
   "source": [
    "english_train, english_dev = english[0:1000], english[1000:1100]\n",
    "french_train, french_dev = french[0:1000], french[1000:1100]\n",
    "italian_train, italian_dev = italian[0:1000], italian[1000:1100]\n",
    "spanish_train, spanish_dev = spanish[0:1000], spanish[1000:1100]  \n",
    "english_test = udhr.words('English-Latin1')[0:1000]\n",
    "french_test = udhr.words('French_Francais-Latin1')[0:1000]\n",
    "italian_test = udhr.words('Italian_Italiano-Latin1')[0:1000]\n",
    "spanish_test = udhr.words('Spanish_Espanol-Latin1')[0:1000]"
   ]
  },
  {
   "cell_type": "markdown",
   "metadata": {},
   "source": [
    "### Pre-processing text"
   ]
  },
  {
   "cell_type": "code",
   "execution_count": 4,
   "metadata": {},
   "outputs": [],
   "source": [
    "def clean_text(text):\n",
    "    punctuation_tokenizer = nltk.tokenize.RegexpTokenizer(r'\\w+')\n",
    "    tokens = punctuation_tokenizer.tokenize(text)\n",
    "    filtered_text = [word.lower() for word in tokens]\n",
    "    return filtered_text"
   ]
  },
  {
   "cell_type": "code",
   "execution_count": 5,
   "metadata": {},
   "outputs": [],
   "source": [
    "english_train_temp = ''.join(english_train)\n",
    "english_train_clean = clean_text(english_train_temp)\n",
    "french_train_temp = ''.join(french_train)\n",
    "french_train_clean = clean_text(french_train_temp)\n",
    "italian_train_temp = ''.join(italian_train)\n",
    "italian_train_clean = clean_text(italian_train_temp)\n",
    "spanish_train_temp = ''.join(spanish_train)\n",
    "spanish_train_clean = clean_text(spanish_train_temp)\n",
    "\n",
    "english_dev_temp = ''.join(english_dev)\n",
    "english_dev_clean = clean_text(english_dev_temp)\n",
    "french_dev_temp = ''.join(french_dev)\n",
    "french_dev_clean = clean_text(french_dev_temp)\n",
    "italian_dev_temp = ''.join(italian_dev)\n",
    "italian_dev_clean = clean_text(italian_dev_temp)\n",
    "spanish_dev_temp = ''.join(spanish_dev)\n",
    "spanish_dev_clean = clean_text(spanish_dev_temp)\n",
    "\n",
    "english_test_temp = ' '.join(english_test)\n",
    "english_test_clean = clean_text(english_test_temp)\n",
    "french_test_temp = ' '.join(french_test)\n",
    "french_test_clean = clean_text(french_test_temp)\n",
    "italian_test_temp = ' '.join(italian_test)\n",
    "italian_test_clean = clean_text(italian_test_temp)\n",
    "spanish_test_temp = ' '.join(spanish_test)\n",
    "spanish_test_clean = clean_text(spanish_test_temp)"
   ]
  },
  {
   "cell_type": "markdown",
   "metadata": {},
   "source": [
    "### Extracting character-level unigrams, bigrams and trigrams from corpora"
   ]
  },
  {
   "cell_type": "code",
   "execution_count": 6,
   "metadata": {},
   "outputs": [],
   "source": [
    "english_train_unigram = []\n",
    "english_train_bigram = []\n",
    "english_train_trigram = []\n",
    "for word in english_train_clean:\n",
    "    n = len(word)\n",
    "    for i in range(n):\n",
    "        english_train_unigram.append(word[i])\n",
    "        if i + 1 < n:\n",
    "            english_train_bigram.append((word[i], word[i + 1]))\n",
    "            if i + 2 < n:\n",
    "                english_train_trigram.append((word[i], word[i + 1], word[i + 2]))"
   ]
  },
  {
   "cell_type": "code",
   "execution_count": 7,
   "metadata": {},
   "outputs": [],
   "source": [
    "french_train_unigram = []\n",
    "french_train_bigram = []\n",
    "french_train_trigram = []\n",
    "for word in french_train_clean:\n",
    "    n = len(word)\n",
    "    for i in range(n):\n",
    "        french_train_unigram.append(word[i])\n",
    "        if i + 1 < n:\n",
    "            french_train_bigram.append((word[i], word[i + 1]))\n",
    "            if i + 2 < n:\n",
    "                french_train_trigram.append((word[i], word[i + 1], word[i + 2]))"
   ]
  },
  {
   "cell_type": "code",
   "execution_count": 8,
   "metadata": {},
   "outputs": [],
   "source": [
    "italian_train_unigram = []\n",
    "italian_train_bigram = []\n",
    "italian_train_trigram = []\n",
    "for word in italian_train_clean:\n",
    "    n = len(word)\n",
    "    for i in range(n):\n",
    "        italian_train_unigram.append(word[i])\n",
    "        if i + 1 < n:\n",
    "            italian_train_bigram.append((word[i], word[i + 1]))\n",
    "            if i + 2 < n:\n",
    "                italian_train_trigram.append((word[i], word[i + 1], word[i + 2]))"
   ]
  },
  {
   "cell_type": "code",
   "execution_count": 9,
   "metadata": {},
   "outputs": [],
   "source": [
    "spanish_train_unigram = []\n",
    "spanish_train_bigram = []\n",
    "spanish_train_trigram = []\n",
    "for word in spanish_train_clean:\n",
    "    n = len(word)\n",
    "    for i in range(n):\n",
    "        spanish_train_unigram.append(word[i])\n",
    "        if i + 1 < n:\n",
    "            spanish_train_bigram.append((word[i], word[i + 1]))\n",
    "            if i + 2 < n:\n",
    "                spanish_train_trigram.append((word[i], word[i + 1], word[i + 2]))"
   ]
  },
  {
   "cell_type": "markdown",
   "metadata": {},
   "source": [
    "### Defining probability for language prediction according to ngrams"
   ]
  },
  {
   "cell_type": "code",
   "execution_count": 10,
   "metadata": {},
   "outputs": [],
   "source": [
    "epsilon_for_unknown = 1e-5"
   ]
  },
  {
   "cell_type": "code",
   "execution_count": 11,
   "metadata": {},
   "outputs": [],
   "source": [
    "def unigram_probability(word, fdist1, fdist2):\n",
    "    prob_1 = 1\n",
    "    prob_2 = 1\n",
    "    len_1 = sum(fdist1.values())\n",
    "    len_2 = sum(fdist2.values())\n",
    "    for letter in word:\n",
    "        if letter not in fdist1.keys():\n",
    "            prob_1 *= epsilon_for_unknown\n",
    "        else:\n",
    "            prob_1 *= fdist1[letter]/len_1\n",
    "        if letter not in fdist2.keys():\n",
    "            prob_2 *= epsilon_for_unknown\n",
    "        else:\n",
    "            prob_2 *= fdist2[letter]/len_2\n",
    "    if (prob_1 == prob_2):\n",
    "        return 'Undeterminable'\n",
    "    elif (prob_1 > prob_2):\n",
    "        return '1'\n",
    "    else:\n",
    "        return '2'"
   ]
  },
  {
   "cell_type": "code",
   "execution_count": 12,
   "metadata": {},
   "outputs": [],
   "source": [
    "def bigram_probability(word, fdist1, fdist2):\n",
    "    prob_1 = 1\n",
    "    prob_2 = 1\n",
    "    len_1 = sum(fdist1.values())\n",
    "    len_2 = sum(fdist2.values())\n",
    "    n = len(word)\n",
    "    for i in range(n):\n",
    "        if i + 1 < n:\n",
    "            if (word[i], word[i + 1]) not in fdist1.keys():\n",
    "                prob_1 *= epsilon_for_unknown\n",
    "            else:\n",
    "                prob_1 *= fdist1[(word[i], word[i + 1])]/len_1\n",
    "            if (word[i], word[i + 1]) not in fdist2.keys():\n",
    "                prob_2 *= epsilon_for_unknown\n",
    "            else:\n",
    "                prob_2 *= fdist2[(word[i], word[i + 1])]/len_2\n",
    "    if (prob_1 == prob_2):\n",
    "        return 'Undeterminable'\n",
    "    elif (prob_1 > prob_2):\n",
    "        return '1'\n",
    "    else:\n",
    "        return '2'"
   ]
  },
  {
   "cell_type": "code",
   "execution_count": 13,
   "metadata": {},
   "outputs": [],
   "source": [
    "def trigram_probability(word, fdist1, fdist2):\n",
    "    prob_1 = 1\n",
    "    prob_2 = 1\n",
    "    len_1 = sum(fdist1.values())\n",
    "    len_2 = sum(fdist2.values())\n",
    "    n = len(word)\n",
    "    for i in range(n):\n",
    "        if i + 1 < n and i + 2 < n:\n",
    "            if (word[i], word[i + 1], word[i + 2]) not in fdist1.keys():\n",
    "                prob_1 *= epsilon_for_unknown\n",
    "            else:\n",
    "                prob_1 *= fdist1[(word[i], word[i + 1], word[i + 2])]/len_1\n",
    "            if (word[i], word[i + 1], word[i + 2]) not in fdist2.keys():\n",
    "                prob_2 *= epsilon_for_unknown\n",
    "            else:\n",
    "                prob_2 *= fdist2[(word[i], word[i + 1], word[i + 2])]/len_2\n",
    "    if (prob_1 == prob_2):\n",
    "        return 'Undeterminable'\n",
    "    elif (prob_1 > prob_2):\n",
    "        return '1'\n",
    "    else:\n",
    "        return '2'"
   ]
  },
  {
   "cell_type": "markdown",
   "metadata": {},
   "source": [
    "### Getting unigram, bigram, and trigram models for each language"
   ]
  },
  {
   "cell_type": "code",
   "execution_count": 14,
   "metadata": {},
   "outputs": [],
   "source": [
    "fdist_english_train_unigram = dict(nltk.FreqDist(english_train_unigram))\n",
    "fdist_french_train_unigram = dict(nltk.FreqDist(french_train_unigram))\n",
    "fdist_italian_train_unigram = dict(nltk.FreqDist(italian_train_unigram))\n",
    "fdist_spanish_train_unigram = dict(nltk.FreqDist(spanish_train_unigram))"
   ]
  },
  {
   "cell_type": "code",
   "execution_count": 15,
   "metadata": {},
   "outputs": [],
   "source": [
    "fdist_english_train_bigram = dict(nltk.FreqDist(english_train_bigram))\n",
    "fdist_french_train_bigram = dict(nltk.FreqDist(french_train_bigram))\n",
    "fdist_italian_train_bigram = dict(nltk.FreqDist(italian_train_bigram))\n",
    "fdist_spanish_train_bigram = dict(nltk.FreqDist(spanish_train_bigram))"
   ]
  },
  {
   "cell_type": "code",
   "execution_count": 16,
   "metadata": {},
   "outputs": [],
   "source": [
    "fdist_english_train_trigram = dict(nltk.FreqDist(english_train_trigram))\n",
    "fdist_french_train_trigram = dict(nltk.FreqDist(french_train_trigram))\n",
    "fdist_italian_train_trigram = dict(nltk.FreqDist(italian_train_trigram))\n",
    "fdist_spanish_train_trigram = dict(nltk.FreqDist(spanish_train_trigram))"
   ]
  },
  {
   "cell_type": "markdown",
   "metadata": {},
   "source": [
    "### Detecting language based on characters"
   ]
  },
  {
   "cell_type": "code",
   "execution_count": 17,
   "metadata": {},
   "outputs": [],
   "source": [
    "def return_unigram_results(data, fdist1, fdist2):\n",
    "    final = []\n",
    "    for word in data:\n",
    "        final.append(unigram_probability(word, fdist1, fdist2))\n",
    "    prob_1 = final.count('1')\n",
    "    prob_2 = final.count('2')\n",
    "    undeterministic = final.count('Undeterminable')\n",
    "    return {'lang_1': prob_1, 'lang_2': prob_2, 'lang_undeterminable': undeterministic}"
   ]
  },
  {
   "cell_type": "code",
   "execution_count": 18,
   "metadata": {},
   "outputs": [],
   "source": [
    "def return_bigram_results(data, fdist1, fdist2):\n",
    "    final = []\n",
    "    for word in data:\n",
    "        final.append(bigram_probability(word, fdist1, fdist2))\n",
    "    prob_1 = final.count('1')\n",
    "    prob_2 = final.count('2')\n",
    "    undeterministic = final.count('Undeterminable')\n",
    "    return {'lang_1': prob_1, 'lang_2': prob_2, 'lang_undeterminable': undeterministic}"
   ]
  },
  {
   "cell_type": "code",
   "execution_count": 19,
   "metadata": {},
   "outputs": [],
   "source": [
    "def return_trigram_results(data, fdist1, fdist2):\n",
    "    final = []\n",
    "    for word in data:\n",
    "        final.append(trigram_probability(word, fdist1, fdist2))\n",
    "    prob_1 = final.count('1')\n",
    "    prob_2 = final.count('2')\n",
    "    undeterministic = final.count('Undeterminable')\n",
    "    return {'lang_1': prob_1, 'lang_2': prob_2, 'lang_undeterminable': undeterministic}"
   ]
  },
  {
   "cell_type": "code",
   "execution_count": 20,
   "metadata": {},
   "outputs": [],
   "source": [
    "def compute_accuracy(results, lang):\n",
    "    total = 0\n",
    "    for key, value in results.items():\n",
    "        total += value\n",
    "    return (results[lang]/total)"
   ]
  },
  {
   "cell_type": "markdown",
   "metadata": {},
   "source": [
    "### Validating evaluation"
   ]
  },
  {
   "cell_type": "code",
   "execution_count": 21,
   "metadata": {},
   "outputs": [
    {
     "name": "stdout",
     "output_type": "stream",
     "text": [
      "Unigram accuracy:\t 0.7058823529411765\n",
      "Bigram accuracy:\t 0.9411764705882353\n",
      "Trigram accuracy:\t 0.6470588235294118\n",
      "Unigram undeterministic ratio:\t 0.0\n",
      "Bigram undeterministic ratio:\t 0.0\n",
      "Trigram undeterministic ratio:\t 0.11764705882352941\n"
     ]
    }
   ],
   "source": [
    "results_unigram_english = return_unigram_results(english_dev_clean, fdist_english_train_unigram, fdist_french_train_unigram)\n",
    "print('Unigram accuracy:\\t', compute_accuracy(results_unigram_english, 'lang_1'))\n",
    "\n",
    "results_bigram_english = return_bigram_results(english_dev_clean, fdist_english_train_bigram, fdist_french_train_bigram)\n",
    "print('Bigram accuracy:\\t', compute_accuracy(results_bigram_english, 'lang_1'))\n",
    "\n",
    "results_trigram_english = return_trigram_results(english_dev_clean, fdist_english_train_trigram, fdist_french_train_trigram)\n",
    "print('Trigram accuracy:\\t', compute_accuracy(results_trigram_english, 'lang_1'))\n",
    "\n",
    "print('Unigram undeterministic ratio:\\t', compute_accuracy(results_unigram_english, 'lang_undeterminable'))\n",
    "print('Bigram undeterministic ratio:\\t', compute_accuracy(results_bigram_english, 'lang_undeterminable'))\n",
    "print('Trigram undeterministic ratio:\\t', compute_accuracy(results_trigram_english, 'lang_undeterminable'))"
   ]
  },
  {
   "cell_type": "code",
   "execution_count": 22,
   "metadata": {},
   "outputs": [
    {
     "name": "stdout",
     "output_type": "stream",
     "text": [
      "Unigram accuracy:\t 0.8947368421052632\n",
      "Bigram accuracy:\t 0.058823529411764705\n",
      "Trigram accuracy:\t 0.42105263157894735\n",
      "Unigram undeterministic ratio:\t 0.0\n",
      "Bigram undeterministic ratio:\t 0.05263157894736842\n",
      "Trigram undeterministic ratio:\t 0.47368421052631576\n"
     ]
    }
   ],
   "source": [
    "results_unigram_french = return_unigram_results(french_dev_clean, fdist_english_train_unigram, fdist_french_train_unigram)\n",
    "print('Unigram accuracy:\\t', compute_accuracy(results_unigram_french, 'lang_2'))\n",
    "\n",
    "results_bigram_french = return_bigram_results(french_dev_clean, fdist_english_train_bigram, fdist_french_train_bigram)\n",
    "print('Bigram accuracy:\\t', compute_accuracy(results_bigram_english, 'lang_2'))\n",
    "\n",
    "results_trigram_french = return_trigram_results(french_dev_clean, fdist_english_train_trigram, fdist_french_train_trigram)\n",
    "print('Trigram accuracy:\\t', compute_accuracy(results_trigram_french, 'lang_2'))\n",
    "\n",
    "print('Unigram undeterministic ratio:\\t', compute_accuracy(results_unigram_french, 'lang_undeterminable'))\n",
    "print('Bigram undeterministic ratio:\\t', compute_accuracy(results_bigram_french, 'lang_undeterminable'))\n",
    "print('Trigram undeterministic ratio:\\t', compute_accuracy(results_trigram_french, 'lang_undeterminable'))"
   ]
  },
  {
   "cell_type": "code",
   "execution_count": 23,
   "metadata": {},
   "outputs": [
    {
     "name": "stdout",
     "output_type": "stream",
     "text": [
      "Unigram accuracy:\t 0.8666666666666667\n",
      "Bigram accuracy:\t 0.9333333333333333\n",
      "Trigram accuracy:\t 0.3333333333333333\n",
      "Unigram undeterministic ratio:\t 0.0\n",
      "Bigram undeterministic ratio:\t 0.0\n",
      "Trigram undeterministic ratio:\t 0.3333333333333333\n"
     ]
    }
   ],
   "source": [
    "results_unigram_spanish = return_unigram_results(spanish_dev_clean, fdist_spanish_train_unigram, fdist_italian_train_unigram)\n",
    "print('Unigram accuracy:\\t', compute_accuracy(results_unigram_spanish, 'lang_1'))\n",
    "\n",
    "results_bigram_spanish = return_bigram_results(spanish_dev_clean, fdist_spanish_train_bigram, fdist_italian_train_bigram)\n",
    "print('Bigram accuracy:\\t', compute_accuracy(results_bigram_spanish, 'lang_1'))\n",
    "\n",
    "results_trigram_spanish = return_trigram_results(spanish_dev_clean, fdist_spanish_train_trigram, fdist_italian_train_trigram)\n",
    "print('Trigram accuracy:\\t', compute_accuracy(results_trigram_spanish, 'lang_1'))\n",
    "\n",
    "print('Unigram undeterministic ratio:\\t', compute_accuracy(results_unigram_spanish, 'lang_undeterminable'))\n",
    "print('Bigram undeterministic ratio:\\t', compute_accuracy(results_bigram_spanish, 'lang_undeterminable'))\n",
    "print('Trigram undeterministic ratio:\\t', compute_accuracy(results_trigram_spanish, 'lang_undeterminable'))"
   ]
  },
  {
   "cell_type": "code",
   "execution_count": 24,
   "metadata": {},
   "outputs": [
    {
     "name": "stdout",
     "output_type": "stream",
     "text": [
      "Unigram accuracy:\t 0.47058823529411764\n",
      "Bigram accuracy:\t 0.6470588235294118\n",
      "Trigram accuracy:\t 0.5882352941176471\n",
      "Unigram undeterministic ratio:\t 0.0\n",
      "Bigram undeterministic ratio:\t 0.11764705882352941\n",
      "Trigram undeterministic ratio:\t 0.29411764705882354\n"
     ]
    }
   ],
   "source": [
    "results_unigram_italian = return_unigram_results(italian_dev_clean, fdist_spanish_train_unigram, fdist_italian_train_unigram)\n",
    "print('Unigram accuracy:\\t', compute_accuracy(results_unigram_italian, 'lang_2'))\n",
    "\n",
    "results_bigram_italian = return_bigram_results(italian_dev_clean, fdist_spanish_train_bigram, fdist_italian_train_bigram)\n",
    "print('Bigram accuracy:\\t', compute_accuracy(results_bigram_italian, 'lang_2'))\n",
    "\n",
    "results_trigram_italian = return_trigram_results(italian_dev_clean, fdist_spanish_train_trigram, fdist_italian_train_trigram)\n",
    "print('Trigram accuracy:\\t', compute_accuracy(results_trigram_italian, 'lang_2'))\n",
    "\n",
    "print('Unigram undeterministic ratio:\\t', compute_accuracy(results_unigram_italian, 'lang_undeterminable'))\n",
    "print('Bigram undeterministic ratio:\\t', compute_accuracy(results_bigram_italian, 'lang_undeterminable'))\n",
    "print('Trigram undeterministic ratio:\\t', compute_accuracy(results_trigram_italian, 'lang_undeterminable'))"
   ]
  },
  {
   "cell_type": "markdown",
   "metadata": {},
   "source": [
    "# Part 1"
   ]
  },
  {
   "cell_type": "markdown",
   "metadata": {},
   "source": [
    "### Accuracy for english set between english and french"
   ]
  },
  {
   "cell_type": "code",
   "execution_count": 30,
   "metadata": {},
   "outputs": [
    {
     "name": "stdout",
     "output_type": "stream",
     "text": [
      "Unigram english accuracy:\t 0.7450765864332604\n",
      "Unigram french accuracy:\t 0.237417943107221\n",
      "Bigram english accuracy:\t 0.8096280087527352\n",
      "Bigram french accuracy:\t 0.15645514223194748\n",
      "Trigram english accuracy:\t 0.5207877461706784\n",
      "Trigram french accuracy:\t 0.14660831509846828\n",
      "Unigram undeterministic ratio:\t 0.0175054704595186\n",
      "Bigram undeterministic ratio:\t 0.03391684901531729\n",
      "Trigram undeterministic ratio:\t 0.33260393873085337\n"
     ]
    }
   ],
   "source": [
    "results_unigram_english = return_unigram_results(english_test_clean, fdist_english_train_unigram, fdist_french_train_unigram)\n",
    "print('Unigram english accuracy:\\t', compute_accuracy(results_unigram_english, 'lang_1'))\n",
    "print('Unigram french accuracy:\\t', compute_accuracy(results_unigram_english, 'lang_2'))\n",
    "\n",
    "results_bigram_english = return_bigram_results(english_test_clean, fdist_english_train_bigram, fdist_french_train_bigram)\n",
    "print('Bigram english accuracy:\\t', compute_accuracy(results_bigram_english, 'lang_1'))\n",
    "print('Bigram french accuracy:\\t', compute_accuracy(results_bigram_english, 'lang_2'))\n",
    "\n",
    "results_trigram_english = return_trigram_results(english_test_clean, fdist_english_train_trigram, fdist_french_train_trigram)\n",
    "print('Trigram english accuracy:\\t', compute_accuracy(results_trigram_english, 'lang_1'))\n",
    "print('Trigram french accuracy:\\t', compute_accuracy(results_trigram_english, 'lang_2'))\n",
    "\n",
    "print('Unigram undeterministic ratio:\\t', compute_accuracy(results_unigram_english, 'lang_undeterminable'))\n",
    "print('Bigram undeterministic ratio:\\t', compute_accuracy(results_bigram_english, 'lang_undeterminable'))\n",
    "print('Trigram undeterministic ratio:\\t', compute_accuracy(results_trigram_english, 'lang_undeterminable'))"
   ]
  },
  {
   "cell_type": "markdown",
   "metadata": {},
   "source": [
    "### Accuracy for french set between english and french"
   ]
  },
  {
   "cell_type": "code",
   "execution_count": 33,
   "metadata": {},
   "outputs": [
    {
     "name": "stdout",
     "output_type": "stream",
     "text": [
      "Unigram english accuracy:\t 0.16271186440677965\n",
      "Unigram french accuracy:\t 0.823728813559322\n",
      "Bigram english accuracy:\t 0.14915254237288136\n",
      "Bigram french accuracy:\t 0.7604519774011299\n",
      "Trigram english accuracy:\t 0.09152542372881356\n",
      "Trigram french accuracy:\t 0.5028248587570622\n",
      "Unigram undeterministic ratio:\t 0.013559322033898305\n",
      "Bigram undeterministic ratio:\t 0.0903954802259887\n",
      "Trigram undeterministic ratio:\t 0.4056497175141243\n"
     ]
    }
   ],
   "source": [
    "results_unigram_french = return_unigram_results(french_test_clean, fdist_english_train_unigram, fdist_french_train_unigram)\n",
    "print('Unigram english accuracy:\\t', compute_accuracy(results_unigram_french, 'lang_1'))\n",
    "print('Unigram french accuracy:\\t', compute_accuracy(results_unigram_french, 'lang_2'))\n",
    "\n",
    "results_bigram_french = return_bigram_results(french_test_clean, fdist_english_train_bigram, fdist_french_train_bigram)\n",
    "print('Bigram english accuracy:\\t', compute_accuracy(results_bigram_french, 'lang_1'))\n",
    "print('Bigram french accuracy:\\t', compute_accuracy(results_bigram_french, 'lang_2'))\n",
    "\n",
    "results_trigram_french = return_trigram_results(french_test_clean, fdist_english_train_trigram, fdist_french_train_trigram)\n",
    "print('Trigram english accuracy:\\t', compute_accuracy(results_trigram_french, 'lang_1'))\n",
    "print('Trigram french accuracy:\\t', compute_accuracy(results_trigram_french, 'lang_2'))\n",
    "\n",
    "print('Unigram undeterministic ratio:\\t', compute_accuracy(results_unigram_french, 'lang_undeterminable'))\n",
    "print('Bigram undeterministic ratio:\\t', compute_accuracy(results_bigram_french, 'lang_undeterminable'))\n",
    "print('Trigram undeterministic ratio:\\t', compute_accuracy(results_trigram_french, 'lang_undeterminable'))"
   ]
  },
  {
   "cell_type": "markdown",
   "metadata": {},
   "source": [
    "# Part 2"
   ]
  },
  {
   "cell_type": "markdown",
   "metadata": {},
   "source": [
    "### Accuracy for spanish set between italian and spanish"
   ]
  },
  {
   "cell_type": "code",
   "execution_count": 31,
   "metadata": {},
   "outputs": [
    {
     "name": "stdout",
     "output_type": "stream",
     "text": [
      "Unigram spanish accuracy:\t 0.7149122807017544\n",
      "Unigram italian accuracy:\t 0.2817982456140351\n",
      "Bigram spanish accuracy:\t 0.6853070175438597\n",
      "Bigram italian accuracy:\t 0.19846491228070176\n",
      "Trigram spanish accuracy:\t 0.4967105263157895\n",
      "Trigram italian accuracy:\t 0.10197368421052631\n",
      "Unigram undeterministic ratio:\t 0.003289473684210526\n",
      "Bigram undeterministic ratio:\t 0.1162280701754386\n",
      "Trigram undeterministic ratio:\t 0.40131578947368424\n"
     ]
    }
   ],
   "source": [
    "results_unigram_spanish = return_unigram_results(spanish_test_clean, fdist_spanish_train_unigram, fdist_italian_train_unigram)\n",
    "print('Unigram spanish accuracy:\\t', compute_accuracy(results_unigram_spanish, 'lang_1'))\n",
    "print('Unigram italian accuracy:\\t', compute_accuracy(results_unigram_spanish, 'lang_2'))\n",
    "\n",
    "results_bigram_spanish = return_bigram_results(spanish_test_clean, fdist_spanish_train_bigram, fdist_italian_train_bigram)\n",
    "print('Bigram spanish accuracy:\\t', compute_accuracy(results_bigram_spanish, 'lang_1'))\n",
    "print('Bigram italian accuracy:\\t', compute_accuracy(results_bigram_spanish, 'lang_2'))\n",
    "\n",
    "results_trigram_spanish = return_trigram_results(spanish_test_clean, fdist_spanish_train_trigram, fdist_italian_train_trigram)\n",
    "print('Trigram spanish accuracy:\\t', compute_accuracy(results_trigram_spanish, 'lang_1'))\n",
    "print('Trigram italian accuracy:\\t', compute_accuracy(results_trigram_spanish, 'lang_2'))\n",
    "\n",
    "print('Unigram undeterministic ratio:\\t', compute_accuracy(results_unigram_spanish, 'lang_undeterminable'))\n",
    "print('Bigram undeterministic ratio:\\t', compute_accuracy(results_bigram_spanish, 'lang_undeterminable'))\n",
    "print('Trigram undeterministic ratio:\\t', compute_accuracy(results_trigram_spanish, 'lang_undeterminable'))"
   ]
  },
  {
   "cell_type": "markdown",
   "metadata": {},
   "source": [
    "### Accuracy for italian set between italian and spanish"
   ]
  },
  {
   "cell_type": "code",
   "execution_count": 34,
   "metadata": {},
   "outputs": [
    {
     "name": "stdout",
     "output_type": "stream",
     "text": [
      "Unigram spanish accuracy:\t 0.37028824833702884\n",
      "Unigram italian accuracy:\t 0.6263858093126385\n",
      "Bigram spanish accuracy:\t 0.20288248337028825\n",
      "Bigram italian accuracy:\t 0.6829268292682927\n",
      "Trigram spanish accuracy:\t 0.10975609756097561\n",
      "Trigram italian accuracy:\t 0.5620842572062085\n",
      "Unigram undeterministic ratio:\t 0.0033259423503325942\n",
      "Bigram undeterministic ratio:\t 0.11419068736141907\n",
      "Trigram undeterministic ratio:\t 0.328159645232816\n"
     ]
    }
   ],
   "source": [
    "results_unigram_italian = return_unigram_results(italian_test_clean, fdist_spanish_train_unigram, fdist_italian_train_unigram)\n",
    "print('Unigram spanish accuracy:\\t', compute_accuracy(results_unigram_italian, 'lang_1'))\n",
    "print('Unigram italian accuracy:\\t', compute_accuracy(results_unigram_italian, 'lang_2'))\n",
    "\n",
    "results_bigram_italian = return_bigram_results(italian_test_clean, fdist_spanish_train_bigram, fdist_italian_train_bigram)\n",
    "print('Bigram spanish accuracy:\\t', compute_accuracy(results_bigram_italian, 'lang_1'))\n",
    "print('Bigram italian accuracy:\\t', compute_accuracy(results_bigram_italian, 'lang_2'))\n",
    "\n",
    "results_trigram_italian = return_trigram_results(italian_test_clean, fdist_spanish_train_trigram, fdist_italian_train_trigram)\n",
    "print('Trigram spanish accuracy:\\t', compute_accuracy(results_trigram_italian, 'lang_1'))\n",
    "print('Trigram italian accuracy:\\t', compute_accuracy(results_trigram_italian, 'lang_2'))\n",
    "\n",
    "print('Unigram undeterministic ratio:\\t', compute_accuracy(results_unigram_italian, 'lang_undeterminable'))\n",
    "print('Bigram undeterministic ratio:\\t', compute_accuracy(results_bigram_italian, 'lang_undeterminable'))\n",
    "print('Trigram undeterministic ratio:\\t', compute_accuracy(results_trigram_italian, 'lang_undeterminable'))"
   ]
  }
 ],
 "metadata": {
  "kernelspec": {
   "display_name": "Python 3",
   "language": "python",
   "name": "python3"
  },
  "language_info": {
   "codemirror_mode": {
    "name": "ipython",
    "version": 3
   },
   "file_extension": ".py",
   "mimetype": "text/x-python",
   "name": "python",
   "nbconvert_exporter": "python",
   "pygments_lexer": "ipython3",
   "version": "3.7.6"
  }
 },
 "nbformat": 4,
 "nbformat_minor": 4
}
